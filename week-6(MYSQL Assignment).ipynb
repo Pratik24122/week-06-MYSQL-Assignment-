{
 "cells": [
  {
   "cell_type": "markdown",
   "id": "2ec7d2f0",
   "metadata": {},
   "source": [
    "### Q1"
   ]
  },
  {
   "cell_type": "code",
   "execution_count": 1,
   "id": "e07ffa0b",
   "metadata": {},
   "outputs": [],
   "source": [
    "#A database is an organized collection of data that can be easily accessed and managed by a computer system.\n",
    "#The SQL databases are relational, meaning they store the data in a table format.\n",
    "#The NoSQL databases are non relational store the data in various formats uch as documents, key value pairs. "
   ]
  },
  {
   "cell_type": "markdown",
   "id": "e92bccb0",
   "metadata": {},
   "source": [
    "### Q2"
   ]
  },
  {
   "cell_type": "code",
   "execution_count": 3,
   "id": "11eebac2",
   "metadata": {},
   "outputs": [],
   "source": [
    "#DDL stands for data defination language. DDL consists of commands that are used to create  the structure \n",
    "#of the table.\n",
    "\n",
    "# CREATE - This command is used to create a table in a database.\n",
    "#Ex: CREATE TABLE STUDENT( student_name varchar(50),roll_no int);\n",
    "#This will create a table named student and there will be two columns named 'student_name' and 'roll_no'.\n",
    "\n",
    "#DROP - This command is used to delete the table or object from the database.\n",
    "#Ex: DROP TABLE STUDENT;\n",
    "#This will delete the table named 'STUDENT' from the database.\n",
    "\n",
    "#ALTER -This command is used to modify the table by adding or removing colums in the database.\n",
    "#Ex: ALTER TABLE STUDENT ADD Email varchar(50);\n",
    "#This will add the new column named 'Email' in the STUDENT table.\n",
    "\n",
    "#TURNCATE - This command is used to remove all the data from a table, but not table itself.\n",
    "#Ex: TRUNCATE TABLE Persons; \n",
    "#This delete all the rows from the Persons table, but keeps the table structure."
   ]
  },
  {
   "cell_type": "markdown",
   "id": "5c626d5b",
   "metadata": {},
   "source": [
    "### Q3"
   ]
  },
  {
   "cell_type": "code",
   "execution_count": 4,
   "id": "e27a8401",
   "metadata": {},
   "outputs": [],
   "source": [
    "# DML stands for Data Manupulation Language,it is used to insert, update and delete the table data. \n",
    "\n",
    "#INSERT - This command is used to insert the data into the table.\n",
    "#Ex: INSERT INTO STUDENT(student_name,roll_no) values('Pratik Patil',47);\n",
    "#It will add a row in the table with values 'Pratik Patil'and '47'.\n",
    "\n",
    "#UPDATE - This command is used to update the values of existing rows.\n",
    "#Ex: UPDATE STUDENT SET roll_no=10 WHERE student_name='Yash';\n",
    "#It will find student named 'Yash' in the table where it will change the roll no and set it to 10.\n",
    "\n",
    "#DELETE - This command is used to delete or remove the row from the table.\n",
    "#Ex: DELETE FROM STUDENT WHERE roll_no<18;\n",
    "#It will delete all the rows from the STUDENT table where the roll_no column is less than 18."
   ]
  },
  {
   "cell_type": "markdown",
   "id": "3e923c4d",
   "metadata": {},
   "source": [
    "### Q4"
   ]
  },
  {
   "cell_type": "code",
   "execution_count": 2,
   "id": "6e043752",
   "metadata": {},
   "outputs": [],
   "source": [
    "#DQL stands for Data Query Language, which is use to retrive the data from the database.\n",
    "\n",
    "#SELECT - This command is use to retrive whole or specific data from the table.\n",
    "#Ex: SELECT * FROM STUDENT;\n",
    "#It will show the whole 'STUDENT' table."
   ]
  },
  {
   "cell_type": "markdown",
   "id": "026280f3",
   "metadata": {},
   "source": [
    "### Q5"
   ]
  },
  {
   "cell_type": "code",
   "execution_count": null,
   "id": "33105a32",
   "metadata": {},
   "outputs": [],
   "source": [
    "#A primary key is a column or a set of columns that uniquely identifies each row in a table.\n",
    "#A primary key cannot have null or duplicate values.\n",
    "#A foreign key is a column or a set of columns that references the primary key of another table.\n",
    "#A foreign key establishes a relationship between two tables and ensures data integrity."
   ]
  },
  {
   "cell_type": "markdown",
   "id": "343cf9b8",
   "metadata": {},
   "source": [
    "### Q6"
   ]
  },
  {
   "cell_type": "code",
   "execution_count": 4,
   "id": "b1248c4b",
   "metadata": {},
   "outputs": [],
   "source": [
    "import mysql.connector\n",
    "mydb=mysql.connector.connect(\n",
    "    host:'localhost',\n",
    "    user:'abc',\n",
    "    password:'password'\n",
    ")"
   ]
  },
  {
   "cell_type": "code",
   "execution_count": 5,
   "id": "23114f4a",
   "metadata": {},
   "outputs": [],
   "source": [
    "#The cursor() method is used to create a cursor object, which allows you to execute SQL queries on the \n",
    "#database.\n",
    "#The execute() method is used to execute a single SQL query on the database. It takes a string argument \n",
    "#that contains the SQL statement."
   ]
  },
  {
   "cell_type": "markdown",
   "id": "d27c7d4d",
   "metadata": {},
   "source": [
    "### Q7"
   ]
  },
  {
   "cell_type": "code",
   "execution_count": 6,
   "id": "d15c6642",
   "metadata": {},
   "outputs": [],
   "source": [
    "#The order of execution of SQL clauses in an SQL query is as follows:\n",
    "#FROM\n",
    "#WHERE\n",
    "#GROUP BY\n",
    "#HAVING\n",
    "#SELECT\n",
    "#DISTINCT\n",
    "#ORDER BY\n",
    "#LIMIT"
   ]
  },
  {
   "cell_type": "code",
   "execution_count": null,
   "id": "27daaa87",
   "metadata": {},
   "outputs": [],
   "source": []
  },
  {
   "cell_type": "code",
   "execution_count": null,
   "id": "ac436df9",
   "metadata": {},
   "outputs": [],
   "source": []
  }
 ],
 "metadata": {
  "kernelspec": {
   "display_name": "Python 3 (ipykernel)",
   "language": "python",
   "name": "python3"
  },
  "language_info": {
   "codemirror_mode": {
    "name": "ipython",
    "version": 3
   },
   "file_extension": ".py",
   "mimetype": "text/x-python",
   "name": "python",
   "nbconvert_exporter": "python",
   "pygments_lexer": "ipython3",
   "version": "3.9.13"
  }
 },
 "nbformat": 4,
 "nbformat_minor": 5
}
